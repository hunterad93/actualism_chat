{
 "cells": [
  {
   "cell_type": "code",
   "execution_count": 1,
   "metadata": {},
   "outputs": [
    {
     "name": "stdout",
     "output_type": "stream",
     "text": [
      "File type counts: {'': 2, '.js': 12, '.html': 4, '.ico': 1, '.htm': 1281, '.jpg': 279, '.gif': 251, '.png': 1, '.wav': 6, '.mid': 1, '.mp3': 2}\n"
     ]
    }
   ],
   "source": [
    "import os\n",
    "import shutil\n",
    "\n",
    "def find_and_copy_htm_files(source_directory, target_directory):\n",
    "    if os.path.exists(target_directory):\n",
    "        shutil.rmtree(target_directory)\n",
    "    os.makedirs(target_directory)\n",
    "    \n",
    "    htm_files = []\n",
    "    file_type_count = {}\n",
    "    for root, dirs, files in os.walk(source_directory, followlinks=False):  # Set followlinks to False\n",
    "        for file in files:\n",
    "            # Extract file extension and update count\n",
    "            extension = os.path.splitext(file)[1]\n",
    "            if extension in file_type_count:\n",
    "                file_type_count[extension] += 1\n",
    "            else:\n",
    "                file_type_count[extension] = 1\n",
    "\n",
    "            if file.endswith('.htm'):\n",
    "                full_path = os.path.join(root, file)\n",
    "                relative_path = os.path.relpath(full_path, start=source_directory)\n",
    "                htm_files.append(relative_path)\n",
    "                \n",
    "                # Create a new filename by replacing '/' with '---' and changing extension to '.html'\n",
    "                # Using --- because it is not likely to be in any of the filenames, so can easily be replaced\n",
    "                # with / later on when creating citation urls\n",
    "                new_filename = relative_path.replace(os.sep, '---').replace('.htm', '.html')\n",
    "                target_path = os.path.join(target_directory, new_filename)\n",
    "                \n",
    "                # Copy file to the new location with the new name\n",
    "                shutil.copy2(full_path, target_path)\n",
    "    \n",
    "    print(\"File type counts:\", file_type_count)\n",
    "    return htm_files\n",
    "\n",
    "source_directory_path = '/Users/adamhunter/Documents/misc/actualism_chat/actualfreedomlite'\n",
    "target_directory_path = '/Users/adamhunter/Documents/misc/actualism_chat/af_knowledge_base'\n",
    "htm_files = find_and_copy_htm_files(source_directory_path, target_directory_path)"
   ]
  }
 ],
 "metadata": {
  "kernelspec": {
   "display_name": "streamlitenv",
   "language": "python",
   "name": "python3"
  },
  "language_info": {
   "codemirror_mode": {
    "name": "ipython",
    "version": 3
   },
   "file_extension": ".py",
   "mimetype": "text/x-python",
   "name": "python",
   "nbconvert_exporter": "python",
   "pygments_lexer": "ipython3",
   "version": "3.11.0"
  }
 },
 "nbformat": 4,
 "nbformat_minor": 2
}
