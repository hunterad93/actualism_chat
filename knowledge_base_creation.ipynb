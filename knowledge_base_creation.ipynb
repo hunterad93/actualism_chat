{
 "cells": [
  {
   "cell_type": "code",
   "execution_count": null,
   "metadata": {},
   "outputs": [],
   "source": [
    "import os\n",
    "import shutil\n",
    "\n",
    "def find_and_copy_htm_files(source_directory, target_directory):\n",
    "    if os.path.exists(target_directory):\n",
    "        shutil.rmtree(target_directory)\n",
    "    os.makedirs(target_directory)\n",
    "    \n",
    "    htm_files = []\n",
    "    file_type_count = {}\n",
    "    for root, dirs, files in os.walk(source_directory, followlinks=False):  # Set followlinks to False\n",
    "        for file in files:\n",
    "            # Extract file extension and update count\n",
    "            extension = os.path.splitext(file)[1]\n",
    "            if extension in file_type_count:\n",
    "                file_type_count[extension] += 1\n",
    "            else:\n",
    "                file_type_count[extension] = 1\n",
    "\n",
    "            if file.endswith('.htm'):\n",
    "                full_path = os.path.join(root, file)\n",
    "                relative_path = os.path.relpath(full_path, start=source_directory)\n",
    "                htm_files.append(relative_path)\n",
    "                \n",
    "                # Create a new filename by replacing '/' with '-' and changing extension to '.html'\n",
    "                new_filename = relative_path.replace(os.sep, '-').replace('.htm', '.html')\n",
    "                target_path = os.path.join(target_directory, new_filename)\n",
    "                \n",
    "                # Copy file to the new location with the new name\n",
    "                shutil.copy2(full_path, target_path)\n",
    "    \n",
    "    print(\"File type counts:\", file_type_count)\n",
    "    return htm_files\n",
    "\n",
    "source_directory_path = '/Users/adamhunter/Documents/misc/actualism_chat/actualfreedomlite'\n",
    "target_directory_path = '/Users/adamhunter/Documents/misc/actualism_chat/af_knowledge_base'\n",
    "htm_files = find_and_copy_htm_files(source_directory_path, target_directory_path)"
   ]
  }
 ],
 "metadata": {
  "language_info": {
   "name": "python"
  }
 },
 "nbformat": 4,
 "nbformat_minor": 2
}
