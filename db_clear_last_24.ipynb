{
 "cells": [
  {
   "cell_type": "code",
   "execution_count": null,
   "metadata": {},
   "outputs": [],
   "source": [
    "import pandas as pd\n",
    "from openai import OpenAI\n",
    "import os\n",
    "import time\n",
    "\n",
    "# Initialize the OpenAI client\n",
    "client = OpenAI(api_key=os.getenv('OPENAI_API_KEY'))\n",
    "\n",
    "# Get the current time\n",
    "current_time = time.time()\n",
    "\n",
    "# List all files\n",
    "response = client.files.list()\n",
    "\n",
    "# Prepare data for DataFrame\n",
    "data_for_df = []\n",
    "for file in response.data:\n",
    "    # Calculate the age of the file in seconds\n",
    "    file_age = current_time - file.created_at\n",
    "    if file_age < 86400:  # 86400 seconds in 24 hours\n",
    "        data_for_df.append({\n",
    "            'Filename': file.filename,\n",
    "            'File ID': file.id,\n",
    "            'Created At': file.created_at\n",
    "        })\n",
    "\n",
    "# Create DataFrame\n",
    "df = pd.DataFrame(data_for_df)\n",
    "df.sort_values(by='Created At', ascending=False, inplace=True)\n",
    "\n",
    "df"
   ]
  },
  {
   "cell_type": "code",
   "execution_count": null,
   "metadata": {},
   "outputs": [],
   "source": [
    "# Save the entire DataFrame to a CSV file\n",
    "df.to_csv('file_ids.csv', index=False)\n",
    "print(\"DataFrame saved to file_ids.csv\")\n"
   ]
  },
  {
   "cell_type": "code",
   "execution_count": null,
   "metadata": {},
   "outputs": [],
   "source": [
    "# Proceed with deletion\n",
    "# Load data from CSV file\n",
    "df_from_csv = pd.read_csv('file_ids.csv')\n",
    "\n",
    "# Delete files listed in the DataFrame\n",
    "for index, row in df_from_csv.iterrows():\n",
    "    client.files.delete(row['File ID'])\n",
    "    print(f\"Deleted file {row['Filename']} with ID {row['File ID']}\")"
   ]
  }
 ],
 "metadata": {
  "kernelspec": {
   "display_name": "streamlitenv",
   "language": "python",
   "name": "python3"
  },
  "language_info": {
   "codemirror_mode": {
    "name": "ipython",
    "version": 3
   },
   "file_extension": ".py",
   "mimetype": "text/x-python",
   "name": "python",
   "nbconvert_exporter": "python",
   "pygments_lexer": "ipython3",
   "version": "3.11.0"
  }
 },
 "nbformat": 4,
 "nbformat_minor": 2
}
