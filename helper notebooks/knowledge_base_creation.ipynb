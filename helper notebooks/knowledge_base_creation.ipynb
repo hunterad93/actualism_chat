{
 "cells": [
  {
   "cell_type": "code",
   "execution_count": 1,
   "metadata": {},
   "outputs": [],
   "source": [
    "from markdownify import markdownify as md\n",
    "import os\n",
    "import shutil\n",
    "\n",
    "def find_and_convert_htm_to_md(source_directory, target_directory):\n",
    "    if os.path.exists(target_directory):\n",
    "        shutil.rmtree(target_directory)\n",
    "    os.makedirs(target_directory)\n",
    "    \n",
    "    htm_files = []\n",
    "    file_type_count = {}\n",
    "    \n",
    "    for root, dirs, files in os.walk(source_directory, followlinks=False):\n",
    "        for file in files:\n",
    "            extension = os.path.splitext(file)[1]\n",
    "            if extension in file_type_count:\n",
    "                file_type_count[extension] += 1\n",
    "            else:\n",
    "                file_type_count[extension] = 1\n",
    "\n",
    "            if file.endswith('.htm'):\n",
    "                full_path = os.path.join(root, file)\n",
    "                relative_path = os.path.relpath(full_path, start=source_directory)\n",
    "                htm_files.append(relative_path)\n",
    "                \n",
    "                new_filename = relative_path.replace(os.sep, '---').replace('.htm', '.md')\n",
    "                md_path = os.path.join(target_directory, new_filename)\n",
    "                \n",
    "                # Read HTML content\n",
    "                with open(full_path, 'r', encoding='ISO-8859-1') as html_file:\n",
    "                    html_content = html_file.read()\n",
    "                \n",
    "                # Convert HTML to Markdown using markdownify\n",
    "                markdown_content = md(html_content)\n",
    "                \n",
    "                # Write Markdown file\n",
    "                with open(md_path, 'w', encoding='utf-8') as md_file:\n",
    "                    md_file.write(markdown_content)\n",
    "    \n",
    "    print(\"File type counts:\", file_type_count)\n",
    "    return htm_files"
   ]
  },
  {
   "cell_type": "code",
   "execution_count": 2,
   "metadata": {},
   "outputs": [
    {
     "name": "stdout",
     "output_type": "stream",
     "text": [
      "File type counts: {'': 2, '.js': 12, '.html': 4, '.ico': 1, '.htm': 1281, '.jpg': 279, '.gif': 251, '.png': 1, '.wav': 6, '.mid': 1, '.mp3': 2}\n"
     ]
    }
   ],
   "source": [
    "source_directory_path = '/Users/adamhunter/Documents/misc/actualism_chat/actualfreedomlite'\n",
    "target_directory_path = '/Users/adamhunter/Documents/misc/actualism_chat/af_knowledge_base2'\n",
    "htm_files = find_and_convert_htm_to_md(source_directory_path, target_directory_path)\n",
    "\n"
   ]
  }
 ],
 "metadata": {
  "kernelspec": {
   "display_name": "streamlitenv",
   "language": "python",
   "name": "python3"
  },
  "language_info": {
   "codemirror_mode": {
    "name": "ipython",
    "version": 3
   },
   "file_extension": ".py",
   "mimetype": "text/x-python",
   "name": "python",
   "nbconvert_exporter": "python",
   "pygments_lexer": "ipython3",
   "version": "3.11.0"
  }
 },
 "nbformat": 4,
 "nbformat_minor": 2
}
